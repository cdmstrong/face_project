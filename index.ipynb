{
 "cells": [
  {
   "cell_type": "code",
   "execution_count": 2,
   "metadata": {},
   "outputs": [],
   "source": [
    "import cv2 as cv \n",
    "import numpy as np\n",
    "import imutils\n",
    "import os\n",
    "from PIL import Image"
   ]
  },
  {
   "cell_type": "code",
   "execution_count": 3,
   "metadata": {},
   "outputs": [],
   "source": [
    "face_cascade = cv.CascadeClassifier('haarcascade_frontalface_default.xml')\n",
    "VIDEO_PATH = 'video/hero2.mp4'\n",
    "face_id = 2\n",
    "#sampleNum用来计数样本数目\n",
    "count = 0\n",
    "SAVE_PATH = 'data/'\n",
    "\n",
    "cap = cv.VideoCapture(VIDEO_PATH)\n",
    "count = 0\n",
    "while cap.isOpened():\n",
    "    ret, img = cap.read()\n",
    "    if ret is not None:\n",
    "        if img is None:\n",
    "            continue\n",
    "        img = imutils.resize(img, width=600)\n",
    "        gray = cv.cvtColor(img, cv.COLOR_BGR2GRAY)\n",
    "        face = face_cascade.detectMultiScale(gray, 1.3, 5)\n",
    "        for (x, y, w, h) in face:\n",
    "            cv.rectangle(img, (x, y), (x + w, y + h), (255, 0, 0))\n",
    "            count += 1\n",
    "            if not os.path.exists(SAVE_PATH + 'user.' + str(face_id)):\n",
    "                os.mkdir(SAVE_PATH + 'user.' + str(face_id))\n",
    "            cv.imwrite(SAVE_PATH + 'user.' + str(face_id) + \"/count_\" + str(count) + \".jpg\", gray[y: y + h, x: x + w])\n",
    "        if count >= 800:\n",
    "            break   \n",
    "        cv.imshow('h', img)\n",
    "        key = cv.waitKey(1)\n",
    "        if key == 27:\n",
    "            break\n",
    "    else:\n",
    "        break\n",
    "cap.release()\n",
    "cv.destroyAllWindows()"
   ]
  },
  {
   "cell_type": "code",
   "execution_count": 38,
   "metadata": {},
   "outputs": [
    {
     "name": "stdout",
     "output_type": "stream",
     "text": [
      "Found 1600 images belonging to 2 classes.\n"
     ]
    }
   ],
   "source": [
    "import tensorflow.keras as keras\n",
    "from keras.preprocessing.image import ImageDataGenerator\n",
    "\n",
    "train_gen = ImageDataGenerator(rescale= 1./255)\n",
    "train_img_gen = train_gen.flow_from_directory('./data/')"
   ]
  },
  {
   "cell_type": "code",
   "execution_count": 39,
   "metadata": {},
   "outputs": [
    {
     "name": "stdout",
     "output_type": "stream",
     "text": [
      "runTime0.453125\n"
     ]
    },
    {
     "ename": "error",
     "evalue": "OpenCV(4.5.5) :-1: error: (-5:Bad argument) in function 'train'\n> Overload resolution failed:\n>  - face_FaceRecognizer.train() missing required argument 'labels' (pos 2)\n>  - face_FaceRecognizer.train() missing required argument 'labels' (pos 2)\n",
     "output_type": "error",
     "traceback": [
      "\u001b[1;31m---------------------------------------------------------------------------\u001b[0m",
      "\u001b[1;31merror\u001b[0m                                     Traceback (most recent call last)",
      "\u001b[1;32m~\\AppData\\Local\\Temp\\ipykernel_20332\\1831280951.py\u001b[0m in \u001b[0;36m<module>\u001b[1;34m\u001b[0m\n\u001b[0;32m     25\u001b[0m \u001b[0mtime_end\u001b[0m \u001b[1;33m=\u001b[0m \u001b[0mtime\u001b[0m\u001b[1;33m.\u001b[0m\u001b[0mprocess_time\u001b[0m \u001b[1;33m(\u001b[0m\u001b[1;33m)\u001b[0m\u001b[1;33m\u001b[0m\u001b[1;33m\u001b[0m\u001b[0m\n\u001b[0;32m     26\u001b[0m \u001b[0mprint\u001b[0m\u001b[1;33m(\u001b[0m\u001b[1;34m'runTime'\u001b[0m \u001b[1;33m+\u001b[0m \u001b[0mstr\u001b[0m\u001b[1;33m(\u001b[0m\u001b[1;33m(\u001b[0m\u001b[0mtime_end\u001b[0m \u001b[1;33m-\u001b[0m \u001b[0mtime_start\u001b[0m\u001b[1;33m)\u001b[0m\u001b[1;33m)\u001b[0m\u001b[1;33m)\u001b[0m\u001b[1;33m\u001b[0m\u001b[1;33m\u001b[0m\u001b[0m\n\u001b[1;32m---> 27\u001b[1;33m \u001b[0mrecog\u001b[0m\u001b[1;33m.\u001b[0m\u001b[0mtrain\u001b[0m\u001b[1;33m(\u001b[0m\u001b[0mtrain_img_gen\u001b[0m\u001b[1;33m)\u001b[0m\u001b[1;33m\u001b[0m\u001b[1;33m\u001b[0m\u001b[0m\n\u001b[0m\u001b[0;32m     28\u001b[0m \u001b[0mprint\u001b[0m\u001b[1;33m(\u001b[0m\u001b[1;34m'train'\u001b[0m \u001b[1;33m+\u001b[0m \u001b[0mstr\u001b[0m\u001b[1;33m(\u001b[0m\u001b[1;33m(\u001b[0m\u001b[0mtime\u001b[0m\u001b[1;33m.\u001b[0m\u001b[0mprocess_time\u001b[0m \u001b[1;33m(\u001b[0m\u001b[1;33m)\u001b[0m \u001b[1;33m-\u001b[0m \u001b[0mtime_end\u001b[0m\u001b[1;33m)\u001b[0m\u001b[1;33m)\u001b[0m\u001b[1;33m)\u001b[0m\u001b[1;33m\u001b[0m\u001b[1;33m\u001b[0m\u001b[0m\n\u001b[0;32m     29\u001b[0m \u001b[0mrecog\u001b[0m\u001b[1;33m.\u001b[0m\u001b[0msave\u001b[0m\u001b[1;33m(\u001b[0m\u001b[1;34m'trainner/face.yaml'\u001b[0m\u001b[1;33m)\u001b[0m\u001b[1;33m\u001b[0m\u001b[1;33m\u001b[0m\u001b[0m\n",
      "\u001b[1;31merror\u001b[0m: OpenCV(4.5.5) :-1: error: (-5:Bad argument) in function 'train'\n> Overload resolution failed:\n>  - face_FaceRecognizer.train() missing required argument 'labels' (pos 2)\n>  - face_FaceRecognizer.train() missing required argument 'labels' (pos 2)\n"
     ]
    }
   ],
   "source": [
    "# 人脸识别器\n",
    "import time\n",
    "\n",
    "\n",
    "recog = cv.face.LBPHFaceRecognizer_create()\n",
    "recog.read('trainner/face.yaml')\n",
    "#创建一个函数，用于从数据集文件夹中获取训练图片,并获取id\n",
    "time_start = time.process_time()\n",
    "def get_imgs_labels():\n",
    "    face_id = 0\n",
    "    face_arr = []\n",
    "    face_ids = []\n",
    "    for user_id in os.listdir(SAVE_PATH):\n",
    "        face_id = user_id.split('.')[1]\n",
    "        user_path = SAVE_PATH + user_id\n",
    "        image_paths = [os.path.join(user_path, key) for key in os.listdir(user_path)]\n",
    "        for path in image_paths:\n",
    "            face_ids.append(int(face_id))\n",
    "            img = cv.imread(path, 0)\n",
    "            # img_arr = np.array(img, dtype=\"uint8\")\n",
    "            face_arr.append(img)\n",
    "    return face_arr, face_ids\n",
    "\n",
    "face_arr, face_ids = get_imgs_labels()\n",
    "time_end = time.process_time ()\n",
    "print('runTime' + str((time_end - time_start)))\n",
    "recog.train(train_img_gen)\n",
    "print('train' + str((time.process_time () - time_end)))\n",
    "recog.save('trainner/face.yaml')"
   ]
  },
  {
   "cell_type": "code",
   "execution_count": 41,
   "metadata": {},
   "outputs": [],
   "source": [
    "VIDEO_PATH = 'video/hero2.mp4'\n",
    "font = cv.FONT_HERSHEY_SIMPLEX\n",
    "idNum = 0\n",
    "names = ['unknow', 'cc', 'dm']\n",
    "cap = cv.VideoCapture(VIDEO_PATH)\n",
    "while cap.isOpened():\n",
    "    ret, img = cap.read()\n",
    "    img = imutils.resize(img, width=600)\n",
    "    if ret is not None:\n",
    "        gray = cv.cvtColor(img, cv.COLOR_BGR2GRAY)\n",
    "        face = face_cascade.detectMultiScale(gray, 1.3, 5)\n",
    "        for (x, y, w, h) in face:\n",
    "            cv.rectangle(img, (x, y), (x + w, y + h), (255, 0, 0))\n",
    "            id, conf = recog.predict(gray[y: y+h, x: x+w])\n",
    "            user = ''\n",
    "            if conf < 100:\n",
    "                user = names[id]\n",
    "                conf = \"{0}%\".format(round(100-conf))\n",
    "            else:\n",
    "                user = \"unknown\"\n",
    "                conf = \"{0}%\".format(round(100-conf))\n",
    "            cv.putText(img, user, (x + 5, y - 5), font, 1, (0,255, 0), 1)\n",
    "            cv.putText(img, str(conf), (x + 50, y - 5), font, 1, (0,255, 0), 1)\n",
    "        cv.imshow('face', img)\n",
    "        key = cv.waitKey(1)\n",
    "        if key == 27:\n",
    "            break\n",
    "cap.release()\n",
    "cv.destroyAllWindows()\n",
    "        \n",
    "            \n",
    "        \n",
    "        \n",
    "        "
   ]
  },
  {
   "cell_type": "code",
   "execution_count": null,
   "metadata": {},
   "outputs": [],
   "source": []
  }
 ],
 "metadata": {
  "kernelspec": {
   "display_name": "Python 3.7.13 ('network')",
   "language": "python",
   "name": "python3"
  },
  "language_info": {
   "codemirror_mode": {
    "name": "ipython",
    "version": 3
   },
   "file_extension": ".py",
   "mimetype": "text/x-python",
   "name": "python",
   "nbconvert_exporter": "python",
   "pygments_lexer": "ipython3",
   "version": "3.7.13"
  },
  "orig_nbformat": 4,
  "vscode": {
   "interpreter": {
    "hash": "215e5842a3118c4416568ff882d7764b9771aac049493be6b27fdc23278f4506"
   }
  }
 },
 "nbformat": 4,
 "nbformat_minor": 2
}
